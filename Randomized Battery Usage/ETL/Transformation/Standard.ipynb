{
 "cells": [
  {
   "cell_type": "code",
   "execution_count": 2,
   "id": "fc202600",
   "metadata": {},
   "outputs": [],
   "source": [
    "import pandas as pd\n",
    "from sklearn.preprocessing import StandardScaler"
   ]
  },
  {
   "cell_type": "code",
   "execution_count": 14,
   "id": "caa45646",
   "metadata": {},
   "outputs": [],
   "source": [
    "from scipy.stats import zscore\n",
    "\n"
   ]
  },
  {
   "cell_type": "code",
   "execution_count": 15,
   "id": "7a4a6538",
   "metadata": {},
   "outputs": [
    {
     "name": "stdout",
     "output_type": "stream",
     "text": [
      "Outlier rows: 568607\n"
     ]
    }
   ],
   "source": [
    "# Compute z-scores\n",
    "z_scores = df_flat[['voltage', 'current', 'temperature', 'relative_time']].apply(zscore)\n",
    "\n",
    "# Check for rows with any value > 3 or < -3 (common threshold)\n",
    "outliers = (z_scores.abs() > 3).any(axis=1)\n",
    "print(\"Outlier rows:\", outliers.sum())"
   ]
  },
  {
   "cell_type": "code",
   "execution_count": 3,
   "id": "2167ed0e",
   "metadata": {},
   "outputs": [],
   "source": [
    "flat = \"/Users/tarunshyam/Learning/NASA_Battery_data/Randomized Battery Usage/flattened_battery_data.csv\"\n",
    "\n",
    "# Load the flattened data\n",
    "df_flat = pd.read_csv(flat)\n",
    "\n",
    "\n"
   ]
  },
  {
   "cell_type": "code",
   "execution_count": 4,
   "id": "334d72c0",
   "metadata": {},
   "outputs": [],
   "source": [
    "# Columns to normalize\n",
    "cols_to_scale = ['relative_time', 'voltage', 'current', 'temperature']"
   ]
  },
  {
   "cell_type": "code",
   "execution_count": 5,
   "id": "b33d5a05",
   "metadata": {},
   "outputs": [],
   "source": [
    "# Initialize the scaler\n",
    "scaler = StandardScaler()\n"
   ]
  },
  {
   "cell_type": "code",
   "execution_count": 6,
   "id": "81159ac5",
   "metadata": {},
   "outputs": [],
   "source": [
    "# Fit and transform only numeric columns\n",
    "df_scaled = df_flat.copy()\n",
    "df_scaled[cols_to_scale] = scaler.fit_transform(df_flat[cols_to_scale])\n"
   ]
  },
  {
   "cell_type": "code",
   "execution_count": 7,
   "id": "f5ba4d4f",
   "metadata": {},
   "outputs": [],
   "source": [
    "# Save the standardized dataset\n",
    "df_scaled.to_csv(\"flattened_battery_data_scaled.csv\", index=False)\n"
   ]
  },
  {
   "cell_type": "code",
   "execution_count": 8,
   "id": "c2f609f7",
   "metadata": {},
   "outputs": [
    {
     "data": {
      "text/html": [
       "<div>\n",
       "<style scoped>\n",
       "    .dataframe tbody tr th:only-of-type {\n",
       "        vertical-align: middle;\n",
       "    }\n",
       "\n",
       "    .dataframe tbody tr th {\n",
       "        vertical-align: top;\n",
       "    }\n",
       "\n",
       "    .dataframe thead th {\n",
       "        text-align: right;\n",
       "    }\n",
       "</style>\n",
       "<table border=\"1\" class=\"dataframe\">\n",
       "  <thead>\n",
       "    <tr style=\"text-align: right;\">\n",
       "      <th></th>\n",
       "      <th>type</th>\n",
       "      <th>source_file</th>\n",
       "      <th>subgroup</th>\n",
       "      <th>sample_index</th>\n",
       "      <th>relative_time</th>\n",
       "      <th>voltage</th>\n",
       "      <th>current</th>\n",
       "      <th>temperature</th>\n",
       "    </tr>\n",
       "  </thead>\n",
       "  <tbody>\n",
       "    <tr>\n",
       "      <th>0</th>\n",
       "      <td>C</td>\n",
       "      <td>RW17.mat</td>\n",
       "      <td>RW_Skewed_High_Room_Temp_DataSet_2Post</td>\n",
       "      <td>0</td>\n",
       "      <td>-0.156174</td>\n",
       "      <td>0.745234</td>\n",
       "      <td>-1.548311</td>\n",
       "      <td>-1.078261</td>\n",
       "    </tr>\n",
       "    <tr>\n",
       "      <th>1</th>\n",
       "      <td>C</td>\n",
       "      <td>RW17.mat</td>\n",
       "      <td>RW_Skewed_High_Room_Temp_DataSet_2Post</td>\n",
       "      <td>1</td>\n",
       "      <td>-0.149247</td>\n",
       "      <td>0.988252</td>\n",
       "      <td>-1.543889</td>\n",
       "      <td>-1.071980</td>\n",
       "    </tr>\n",
       "    <tr>\n",
       "      <th>2</th>\n",
       "      <td>C</td>\n",
       "      <td>RW17.mat</td>\n",
       "      <td>RW_Skewed_High_Room_Temp_DataSet_2Post</td>\n",
       "      <td>2</td>\n",
       "      <td>-0.142320</td>\n",
       "      <td>1.049007</td>\n",
       "      <td>-1.543889</td>\n",
       "      <td>-1.055234</td>\n",
       "    </tr>\n",
       "    <tr>\n",
       "      <th>3</th>\n",
       "      <td>C</td>\n",
       "      <td>RW17.mat</td>\n",
       "      <td>RW_Skewed_High_Room_Temp_DataSet_2Post</td>\n",
       "      <td>3</td>\n",
       "      <td>-0.135393</td>\n",
       "      <td>1.076009</td>\n",
       "      <td>-1.543889</td>\n",
       "      <td>-1.028022</td>\n",
       "    </tr>\n",
       "    <tr>\n",
       "      <th>4</th>\n",
       "      <td>C</td>\n",
       "      <td>RW17.mat</td>\n",
       "      <td>RW_Skewed_High_Room_Temp_DataSet_2Post</td>\n",
       "      <td>4</td>\n",
       "      <td>-0.128466</td>\n",
       "      <td>1.092885</td>\n",
       "      <td>-1.543889</td>\n",
       "      <td>-1.000809</td>\n",
       "    </tr>\n",
       "  </tbody>\n",
       "</table>\n",
       "</div>"
      ],
      "text/plain": [
       "  type source_file                                subgroup  sample_index  \\\n",
       "0    C    RW17.mat  RW_Skewed_High_Room_Temp_DataSet_2Post             0   \n",
       "1    C    RW17.mat  RW_Skewed_High_Room_Temp_DataSet_2Post             1   \n",
       "2    C    RW17.mat  RW_Skewed_High_Room_Temp_DataSet_2Post             2   \n",
       "3    C    RW17.mat  RW_Skewed_High_Room_Temp_DataSet_2Post             3   \n",
       "4    C    RW17.mat  RW_Skewed_High_Room_Temp_DataSet_2Post             4   \n",
       "\n",
       "   relative_time   voltage   current  temperature  \n",
       "0      -0.156174  0.745234 -1.548311    -1.078261  \n",
       "1      -0.149247  0.988252 -1.543889    -1.071980  \n",
       "2      -0.142320  1.049007 -1.543889    -1.055234  \n",
       "3      -0.135393  1.076009 -1.543889    -1.028022  \n",
       "4      -0.128466  1.092885 -1.543889    -1.000809  "
      ]
     },
     "execution_count": 8,
     "metadata": {},
     "output_type": "execute_result"
    }
   ],
   "source": [
    "df_scaled.head()"
   ]
  },
  {
   "cell_type": "code",
   "execution_count": null,
   "id": "b61dcae7",
   "metadata": {},
   "outputs": [],
   "source": [
    "numerical_cols = ['relative_time', 'voltage', 'current', 'temperature']"
   ]
  },
  {
   "cell_type": "code",
   "execution_count": 12,
   "id": "039719a1",
   "metadata": {},
   "outputs": [],
   "source": [
    "import matplotlib.pyplot as plt\n",
    "import seaborn as sns"
   ]
  },
  {
   "cell_type": "code",
   "execution_count": 13,
   "id": "825c8dac",
   "metadata": {},
   "outputs": [],
   "source": [
    "# Plotting the standardized distributions\n",
    "for col in numerical_cols:\n",
    "    plt.figure(figsize=(8, 4))\n",
    "    sns.histplot(df_scaled[col], bins=100, kde=True)\n",
    "    plt.title(f'Standardized Distribution of {col}')\n",
    "    plt.xlabel(col)\n",
    "    plt.ylabel('Count')\n",
    "    plt.tight_layout()\n",
    "    plt.savefig(f'scaled_{col}_distribution.png')\n",
    "    plt.close()"
   ]
  },
  {
   "cell_type": "code",
   "execution_count": 17,
   "id": "5ff87ff6",
   "metadata": {},
   "outputs": [
    {
     "data": {
      "text/plain": [
       "72501389"
      ]
     },
     "execution_count": 17,
     "metadata": {},
     "output_type": "execute_result"
    }
   ],
   "source": [
    "df_scaled.shape[0]"
   ]
  },
  {
   "cell_type": "code",
   "execution_count": 18,
   "id": "6b76585c",
   "metadata": {},
   "outputs": [
    {
     "data": {
      "text/html": [
       "<div>\n",
       "<style scoped>\n",
       "    .dataframe tbody tr th:only-of-type {\n",
       "        vertical-align: middle;\n",
       "    }\n",
       "\n",
       "    .dataframe tbody tr th {\n",
       "        vertical-align: top;\n",
       "    }\n",
       "\n",
       "    .dataframe thead th {\n",
       "        text-align: right;\n",
       "    }\n",
       "</style>\n",
       "<table border=\"1\" class=\"dataframe\">\n",
       "  <thead>\n",
       "    <tr style=\"text-align: right;\">\n",
       "      <th></th>\n",
       "      <th>type</th>\n",
       "      <th>source_file</th>\n",
       "      <th>subgroup</th>\n",
       "      <th>sample_index</th>\n",
       "      <th>relative_time</th>\n",
       "      <th>voltage</th>\n",
       "      <th>current</th>\n",
       "      <th>temperature</th>\n",
       "    </tr>\n",
       "  </thead>\n",
       "  <tbody>\n",
       "    <tr>\n",
       "      <th>0</th>\n",
       "      <td>C</td>\n",
       "      <td>RW17.mat</td>\n",
       "      <td>RW_Skewed_High_Room_Temp_DataSet_2Post</td>\n",
       "      <td>0</td>\n",
       "      <td>-0.156174</td>\n",
       "      <td>0.745234</td>\n",
       "      <td>-1.548311</td>\n",
       "      <td>-1.078261</td>\n",
       "    </tr>\n",
       "    <tr>\n",
       "      <th>1</th>\n",
       "      <td>C</td>\n",
       "      <td>RW17.mat</td>\n",
       "      <td>RW_Skewed_High_Room_Temp_DataSet_2Post</td>\n",
       "      <td>1</td>\n",
       "      <td>-0.149247</td>\n",
       "      <td>0.988252</td>\n",
       "      <td>-1.543889</td>\n",
       "      <td>-1.071980</td>\n",
       "    </tr>\n",
       "    <tr>\n",
       "      <th>2</th>\n",
       "      <td>C</td>\n",
       "      <td>RW17.mat</td>\n",
       "      <td>RW_Skewed_High_Room_Temp_DataSet_2Post</td>\n",
       "      <td>2</td>\n",
       "      <td>-0.142320</td>\n",
       "      <td>1.049007</td>\n",
       "      <td>-1.543889</td>\n",
       "      <td>-1.055234</td>\n",
       "    </tr>\n",
       "    <tr>\n",
       "      <th>3</th>\n",
       "      <td>C</td>\n",
       "      <td>RW17.mat</td>\n",
       "      <td>RW_Skewed_High_Room_Temp_DataSet_2Post</td>\n",
       "      <td>3</td>\n",
       "      <td>-0.135393</td>\n",
       "      <td>1.076009</td>\n",
       "      <td>-1.543889</td>\n",
       "      <td>-1.028022</td>\n",
       "    </tr>\n",
       "    <tr>\n",
       "      <th>4</th>\n",
       "      <td>C</td>\n",
       "      <td>RW17.mat</td>\n",
       "      <td>RW_Skewed_High_Room_Temp_DataSet_2Post</td>\n",
       "      <td>4</td>\n",
       "      <td>-0.128466</td>\n",
       "      <td>1.092885</td>\n",
       "      <td>-1.543889</td>\n",
       "      <td>-1.000809</td>\n",
       "    </tr>\n",
       "  </tbody>\n",
       "</table>\n",
       "</div>"
      ],
      "text/plain": [
       "  type source_file                                subgroup  sample_index  \\\n",
       "0    C    RW17.mat  RW_Skewed_High_Room_Temp_DataSet_2Post             0   \n",
       "1    C    RW17.mat  RW_Skewed_High_Room_Temp_DataSet_2Post             1   \n",
       "2    C    RW17.mat  RW_Skewed_High_Room_Temp_DataSet_2Post             2   \n",
       "3    C    RW17.mat  RW_Skewed_High_Room_Temp_DataSet_2Post             3   \n",
       "4    C    RW17.mat  RW_Skewed_High_Room_Temp_DataSet_2Post             4   \n",
       "\n",
       "   relative_time   voltage   current  temperature  \n",
       "0      -0.156174  0.745234 -1.548311    -1.078261  \n",
       "1      -0.149247  0.988252 -1.543889    -1.071980  \n",
       "2      -0.142320  1.049007 -1.543889    -1.055234  \n",
       "3      -0.135393  1.076009 -1.543889    -1.028022  \n",
       "4      -0.128466  1.092885 -1.543889    -1.000809  "
      ]
     },
     "execution_count": 18,
     "metadata": {},
     "output_type": "execute_result"
    }
   ],
   "source": [
    "df_scaled.head()"
   ]
  },
  {
   "cell_type": "code",
   "execution_count": 1,
   "id": "291881c4",
   "metadata": {},
   "outputs": [],
   "source": [
    "import pandas as pd"
   ]
  },
  {
   "cell_type": "code",
   "execution_count": 2,
   "id": "674cc718",
   "metadata": {},
   "outputs": [
    {
     "ename": "NameError",
     "evalue": "name 'df_flat' is not defined",
     "output_type": "error",
     "traceback": [
      "\u001b[0;31m---------------------------------------------------------------------------\u001b[0m",
      "\u001b[0;31mNameError\u001b[0m                                 Traceback (most recent call last)",
      "Cell \u001b[0;32mIn[2], line 2\u001b[0m\n\u001b[1;32m      1\u001b[0m \u001b[38;5;66;03m# Step 1: Sort by source_file and sample_index\u001b[39;00m\n\u001b[0;32m----> 2\u001b[0m df_flat \u001b[38;5;241m=\u001b[39m df_flat\u001b[38;5;241m.\u001b[39msort_values(by\u001b[38;5;241m=\u001b[39m[\u001b[38;5;124m'\u001b[39m\u001b[38;5;124msource_file\u001b[39m\u001b[38;5;124m'\u001b[39m, \u001b[38;5;124m'\u001b[39m\u001b[38;5;124msample_index\u001b[39m\u001b[38;5;124m'\u001b[39m])\u001b[38;5;241m.\u001b[39mreset_index(drop\u001b[38;5;241m=\u001b[39m\u001b[38;5;28;01mTrue\u001b[39;00m)\n",
      "\u001b[0;31mNameError\u001b[0m: name 'df_flat' is not defined"
     ]
    }
   ],
   "source": [
    "# Step 1: Sort by source_file and sample_index\n",
    "df_flat = df_flat.sort_values(by=['source_file', 'sample_index']).reset_index(drop=True)"
   ]
  },
  {
   "cell_type": "code",
   "execution_count": 3,
   "id": "a59a43a3",
   "metadata": {},
   "outputs": [
    {
     "ename": "NameError",
     "evalue": "name 'df_scaled' is not defined",
     "output_type": "error",
     "traceback": [
      "\u001b[0;31m---------------------------------------------------------------------------\u001b[0m",
      "\u001b[0;31mNameError\u001b[0m                                 Traceback (most recent call last)",
      "Cell \u001b[0;32mIn[3], line 1\u001b[0m\n\u001b[0;32m----> 1\u001b[0m df_scaled\u001b[38;5;241m.\u001b[39mhead()\n",
      "\u001b[0;31mNameError\u001b[0m: name 'df_scaled' is not defined"
     ]
    }
   ],
   "source": [
    "df_scaled.head()"
   ]
  },
  {
   "cell_type": "code",
   "execution_count": 4,
   "id": "63559af0",
   "metadata": {},
   "outputs": [],
   "source": [
    "scaled = \"/Users/tarunshyam/Learning/NASA_Battery_data/Randomized Battery Usage/ETL/Transformation/flattened_battery_data_scaled.csv\""
   ]
  },
  {
   "cell_type": "code",
   "execution_count": 8,
   "id": "5b91c2ed",
   "metadata": {},
   "outputs": [
    {
     "ename": "AttributeError",
     "evalue": "'str' object has no attribute 'head'",
     "output_type": "error",
     "traceback": [
      "\u001b[0;31m---------------------------------------------------------------------------\u001b[0m",
      "\u001b[0;31mAttributeError\u001b[0m                            Traceback (most recent call last)",
      "Cell \u001b[0;32mIn[8], line 1\u001b[0m\n\u001b[0;32m----> 1\u001b[0m scaled\u001b[38;5;241m.\u001b[39mhead()\n",
      "\u001b[0;31mAttributeError\u001b[0m: 'str' object has no attribute 'head'"
     ]
    }
   ],
   "source": [
    "scaled.head()"
   ]
  },
  {
   "cell_type": "code",
   "execution_count": 9,
   "id": "1045b984",
   "metadata": {},
   "outputs": [
    {
     "data": {
      "text/plain": [
       "'/Users/tarunshyam/Learning/NASA_Battery_data/Randomized Battery Usage/ETL/Transformation/flattened_battery_data_scaled.csv'"
      ]
     },
     "execution_count": 9,
     "metadata": {},
     "output_type": "execute_result"
    }
   ],
   "source": [
    "scaled"
   ]
  },
  {
   "cell_type": "code",
   "execution_count": 10,
   "id": "20d10f5a",
   "metadata": {},
   "outputs": [],
   "source": [
    "scal = pd.read_csv(scaled)"
   ]
  },
  {
   "cell_type": "code",
   "execution_count": 11,
   "id": "bce70faf",
   "metadata": {},
   "outputs": [
    {
     "name": "stdout",
     "output_type": "stream",
     "text": [
      "Total source files: 28\n"
     ]
    }
   ],
   "source": [
    "import pandas as pd\n",
    "\n",
    "file_path = \"/Users/tarunshyam/Learning/NASA_Battery_data/Randomized Battery Usage/ETL/Transformation/flattened_battery_data_scaled.csv\"\n",
    "\n",
    "# Read only necessary columns to get group identifiers\n",
    "df_groups = pd.read_csv(file_path, usecols=[\"source_file\"])\n",
    "\n",
    "# Get unique source_file names\n",
    "unique_files = df_groups[\"source_file\"].unique()\n",
    "print(\"Total source files:\", len(unique_files))"
   ]
  },
  {
   "cell_type": "code",
   "execution_count": 12,
   "id": "c7731391",
   "metadata": {},
   "outputs": [],
   "source": [
    "import pandas as pd\n",
    "import os"
   ]
  },
  {
   "cell_type": "code",
   "execution_count": 13,
   "id": "6169fcf5",
   "metadata": {},
   "outputs": [],
   "source": [
    "# === CONFIGURATION ===\n",
    "input_csv_path = \"/Users/tarunshyam/Learning/NASA_Battery_data/Randomized Battery Usage/ETL/Transformation/flattened_battery_data_scaled.csv\"\n",
    "output_dir = \"/Users/tarunshyam/Learning/NASA_Battery_data/Randomized Battery Usage/ETL/Processed_By_Source\"\n",
    "os.makedirs(output_dir, exist_ok=True)"
   ]
  },
  {
   "cell_type": "code",
   "execution_count": 14,
   "id": "e46ad13a",
   "metadata": {},
   "outputs": [],
   "source": [
    "cd = pd.read_csv(\"/Users/tarunshyam/Learning/NASA_Battery_data/Randomized Battery Usage/ETL/Processed_By_Source/RW1_processed.csv\")"
   ]
  },
  {
   "cell_type": "code",
   "execution_count": 15,
   "id": "986ae18e",
   "metadata": {},
   "outputs": [
    {
     "data": {
      "text/html": [
       "<div>\n",
       "<style scoped>\n",
       "    .dataframe tbody tr th:only-of-type {\n",
       "        vertical-align: middle;\n",
       "    }\n",
       "\n",
       "    .dataframe tbody tr th {\n",
       "        vertical-align: top;\n",
       "    }\n",
       "\n",
       "    .dataframe thead th {\n",
       "        text-align: right;\n",
       "    }\n",
       "</style>\n",
       "<table border=\"1\" class=\"dataframe\">\n",
       "  <thead>\n",
       "    <tr style=\"text-align: right;\">\n",
       "      <th></th>\n",
       "      <th>type</th>\n",
       "      <th>source_file</th>\n",
       "      <th>subgroup</th>\n",
       "      <th>sample_index</th>\n",
       "      <th>relative_time</th>\n",
       "      <th>voltage</th>\n",
       "      <th>current</th>\n",
       "      <th>temperature</th>\n",
       "      <th>cycle_id</th>\n",
       "    </tr>\n",
       "  </thead>\n",
       "  <tbody>\n",
       "    <tr>\n",
       "      <th>0</th>\n",
       "      <td>D</td>\n",
       "      <td>RW1.mat</td>\n",
       "      <td>Battery_Uniform_Distribution_Variable_Charge_R...</td>\n",
       "      <td>0</td>\n",
       "      <td>-0.156161</td>\n",
       "      <td>1.548544</td>\n",
       "      <td>-0.428597</td>\n",
       "      <td>-1.637069</td>\n",
       "      <td>NaN</td>\n",
       "    </tr>\n",
       "    <tr>\n",
       "      <th>1</th>\n",
       "      <td>D</td>\n",
       "      <td>RW1.mat</td>\n",
       "      <td>Battery_Uniform_Distribution_Variable_Charge_R...</td>\n",
       "      <td>1</td>\n",
       "      <td>-0.155007</td>\n",
       "      <td>1.535043</td>\n",
       "      <td>-0.416438</td>\n",
       "      <td>-1.637069</td>\n",
       "      <td>NaN</td>\n",
       "    </tr>\n",
       "    <tr>\n",
       "      <th>2</th>\n",
       "      <td>D</td>\n",
       "      <td>RW1.mat</td>\n",
       "      <td>Battery_Uniform_Distribution_Variable_Charge_R...</td>\n",
       "      <td>2</td>\n",
       "      <td>-0.153852</td>\n",
       "      <td>1.531668</td>\n",
       "      <td>-0.416438</td>\n",
       "      <td>-1.637069</td>\n",
       "      <td>NaN</td>\n",
       "    </tr>\n",
       "    <tr>\n",
       "      <th>3</th>\n",
       "      <td>D</td>\n",
       "      <td>RW1.mat</td>\n",
       "      <td>Battery_Uniform_Distribution_Variable_Charge_R...</td>\n",
       "      <td>3</td>\n",
       "      <td>-0.152698</td>\n",
       "      <td>1.531668</td>\n",
       "      <td>-0.416438</td>\n",
       "      <td>-1.637069</td>\n",
       "      <td>NaN</td>\n",
       "    </tr>\n",
       "    <tr>\n",
       "      <th>4</th>\n",
       "      <td>D</td>\n",
       "      <td>RW1.mat</td>\n",
       "      <td>Battery_Uniform_Distribution_Variable_Charge_R...</td>\n",
       "      <td>4</td>\n",
       "      <td>-0.151543</td>\n",
       "      <td>1.528292</td>\n",
       "      <td>-0.416438</td>\n",
       "      <td>-1.634958</td>\n",
       "      <td>NaN</td>\n",
       "    </tr>\n",
       "  </tbody>\n",
       "</table>\n",
       "</div>"
      ],
      "text/plain": [
       "  type source_file                                           subgroup  \\\n",
       "0    D     RW1.mat  Battery_Uniform_Distribution_Variable_Charge_R...   \n",
       "1    D     RW1.mat  Battery_Uniform_Distribution_Variable_Charge_R...   \n",
       "2    D     RW1.mat  Battery_Uniform_Distribution_Variable_Charge_R...   \n",
       "3    D     RW1.mat  Battery_Uniform_Distribution_Variable_Charge_R...   \n",
       "4    D     RW1.mat  Battery_Uniform_Distribution_Variable_Charge_R...   \n",
       "\n",
       "   sample_index  relative_time   voltage   current  temperature  cycle_id  \n",
       "0             0      -0.156161  1.548544 -0.428597    -1.637069       NaN  \n",
       "1             1      -0.155007  1.535043 -0.416438    -1.637069       NaN  \n",
       "2             2      -0.153852  1.531668 -0.416438    -1.637069       NaN  \n",
       "3             3      -0.152698  1.531668 -0.416438    -1.637069       NaN  \n",
       "4             4      -0.151543  1.528292 -0.416438    -1.634958       NaN  "
      ]
     },
     "execution_count": 15,
     "metadata": {},
     "output_type": "execute_result"
    }
   ],
   "source": [
    "cd.head()"
   ]
  },
  {
   "cell_type": "code",
   "execution_count": null,
   "id": "9b2e1a0e",
   "metadata": {},
   "outputs": [],
   "source": []
  },
  {
   "cell_type": "code",
   "execution_count": 16,
   "id": "2ac49637",
   "metadata": {},
   "outputs": [
    {
     "name": "stdout",
     "output_type": "stream",
     "text": [
      "Cycle ID values:\n",
      "Series([], Name: count, dtype: int64)\n"
     ]
    }
   ],
   "source": [
    "df = pd.read_csv(\"/Users/tarunshyam/Learning/NASA_Battery_data/Randomized Battery Usage/ETL/Processed_By_Source/RW1_processed.csv\", usecols=['cycle_id'])  # only load needed column\n",
    "print(\"Cycle ID values:\")\n",
    "print(df['cycle_id'].value_counts().head(10))"
   ]
  },
  {
   "cell_type": "code",
   "execution_count": 17,
   "id": "0690d8d6",
   "metadata": {},
   "outputs": [
    {
     "name": "stdout",
     "output_type": "stream",
     "text": [
      "[nan]\n",
      "type\n",
      "D    1848995\n",
      "C     786544\n",
      "R     323213\n",
      "Name: count, dtype: int64\n"
     ]
    }
   ],
   "source": [
    "df = pd.read_csv(\"/Users/tarunshyam/Learning/NASA_Battery_data/Randomized Battery Usage/ETL/Processed_By_Source/RW1_processed.csv\")\n",
    "\n",
    "print(df['cycle_id'].unique())\n",
    "print(df['type'].value_counts())"
   ]
  },
  {
   "cell_type": "code",
   "execution_count": 18,
   "id": "e35f5572",
   "metadata": {},
   "outputs": [
    {
     "data": {
      "text/html": [
       "<div>\n",
       "<style scoped>\n",
       "    .dataframe tbody tr th:only-of-type {\n",
       "        vertical-align: middle;\n",
       "    }\n",
       "\n",
       "    .dataframe tbody tr th {\n",
       "        vertical-align: top;\n",
       "    }\n",
       "\n",
       "    .dataframe thead th {\n",
       "        text-align: right;\n",
       "    }\n",
       "</style>\n",
       "<table border=\"1\" class=\"dataframe\">\n",
       "  <thead>\n",
       "    <tr style=\"text-align: right;\">\n",
       "      <th></th>\n",
       "      <th>type</th>\n",
       "      <th>source_file</th>\n",
       "      <th>subgroup</th>\n",
       "      <th>sample_index</th>\n",
       "      <th>relative_time</th>\n",
       "      <th>voltage</th>\n",
       "      <th>current</th>\n",
       "      <th>temperature</th>\n",
       "    </tr>\n",
       "  </thead>\n",
       "  <tbody>\n",
       "    <tr>\n",
       "      <th>0</th>\n",
       "      <td>C</td>\n",
       "      <td>RW17.mat</td>\n",
       "      <td>RW_Skewed_High_Room_Temp_DataSet_2Post</td>\n",
       "      <td>0</td>\n",
       "      <td>-0.156174</td>\n",
       "      <td>0.745234</td>\n",
       "      <td>-1.548311</td>\n",
       "      <td>-1.078261</td>\n",
       "    </tr>\n",
       "    <tr>\n",
       "      <th>1</th>\n",
       "      <td>C</td>\n",
       "      <td>RW17.mat</td>\n",
       "      <td>RW_Skewed_High_Room_Temp_DataSet_2Post</td>\n",
       "      <td>1</td>\n",
       "      <td>-0.149247</td>\n",
       "      <td>0.988252</td>\n",
       "      <td>-1.543889</td>\n",
       "      <td>-1.071980</td>\n",
       "    </tr>\n",
       "    <tr>\n",
       "      <th>2</th>\n",
       "      <td>C</td>\n",
       "      <td>RW17.mat</td>\n",
       "      <td>RW_Skewed_High_Room_Temp_DataSet_2Post</td>\n",
       "      <td>2</td>\n",
       "      <td>-0.142320</td>\n",
       "      <td>1.049007</td>\n",
       "      <td>-1.543889</td>\n",
       "      <td>-1.055234</td>\n",
       "    </tr>\n",
       "    <tr>\n",
       "      <th>3</th>\n",
       "      <td>C</td>\n",
       "      <td>RW17.mat</td>\n",
       "      <td>RW_Skewed_High_Room_Temp_DataSet_2Post</td>\n",
       "      <td>3</td>\n",
       "      <td>-0.135393</td>\n",
       "      <td>1.076009</td>\n",
       "      <td>-1.543889</td>\n",
       "      <td>-1.028022</td>\n",
       "    </tr>\n",
       "    <tr>\n",
       "      <th>4</th>\n",
       "      <td>C</td>\n",
       "      <td>RW17.mat</td>\n",
       "      <td>RW_Skewed_High_Room_Temp_DataSet_2Post</td>\n",
       "      <td>4</td>\n",
       "      <td>-0.128466</td>\n",
       "      <td>1.092885</td>\n",
       "      <td>-1.543889</td>\n",
       "      <td>-1.000809</td>\n",
       "    </tr>\n",
       "  </tbody>\n",
       "</table>\n",
       "</div>"
      ],
      "text/plain": [
       "  type source_file                                subgroup  sample_index  \\\n",
       "0    C    RW17.mat  RW_Skewed_High_Room_Temp_DataSet_2Post             0   \n",
       "1    C    RW17.mat  RW_Skewed_High_Room_Temp_DataSet_2Post             1   \n",
       "2    C    RW17.mat  RW_Skewed_High_Room_Temp_DataSet_2Post             2   \n",
       "3    C    RW17.mat  RW_Skewed_High_Room_Temp_DataSet_2Post             3   \n",
       "4    C    RW17.mat  RW_Skewed_High_Room_Temp_DataSet_2Post             4   \n",
       "\n",
       "   relative_time   voltage   current  temperature  \n",
       "0      -0.156174  0.745234 -1.548311    -1.078261  \n",
       "1      -0.149247  0.988252 -1.543889    -1.071980  \n",
       "2      -0.142320  1.049007 -1.543889    -1.055234  \n",
       "3      -0.135393  1.076009 -1.543889    -1.028022  \n",
       "4      -0.128466  1.092885 -1.543889    -1.000809  "
      ]
     },
     "execution_count": 18,
     "metadata": {},
     "output_type": "execute_result"
    }
   ],
   "source": [
    "scal.head()"
   ]
  },
  {
   "cell_type": "code",
   "execution_count": null,
   "id": "4e1aafd2",
   "metadata": {},
   "outputs": [],
   "source": [
    "import pandas as pd\n",
    "\n",
    "# Path to the file\n",
    "file_path = \"/Users/tarunshyam/Learning/NASA_Battery_data/Randomized Battery Usage/ETL/Processed_By_Source/RW1_processed.csv\"\n",
    "\n",
    "# Load the data\n",
    "df = pd.read_csv(file_path)\n",
    "\n",
    "# Drop 'cycle_id' column if it exists\n",
    "if 'cycle_id' in df.columns:\n",
    "    df = df.drop(columns=['cycle_id'])\n",
    "\n",
    "# Sort by sample index to ensure proper sequence\n",
    "df = df.sort_values(by='sample_index').copy()\n",
    "\n",
    "# Assign cycle_id based on transitions of 'type' (from R to C/D or between C and D)\n",
    "df['cycle_id'] = None\n",
    "current_cycle = 0\n",
    "last_type = None\n",
    "cycle_ids = []\n",
    "\n",
    "for _, row in df.iterrows():\n",
    "    row_type = row['type']\n",
    "    if last_type is None or (row_type != last_type and row_type in ['C', 'D']):\n",
    "        current_cycle += 1\n",
    "    last_type = row_type\n",
    "    cycle_ids.append(current_cycle)\n",
    "\n",
    "df['cycle_id'] = cycle_ids\n",
    "df['cycle_id'] = df['cycle_id'].astype(int)\n",
    "\n",
    "# Save the file back\n",
    "df.to_csv(file_path, index=False)\n",
    "\n",
    "print(f\"Cycle IDs assigned and file saved: {/Users/tarunshyam/Learning/NASA_Battery_data/Randomized Battery Usage/ETL/Transformation\"}\")\n"
   ]
  },
  {
   "cell_type": "code",
   "execution_count": null,
   "id": "a0e23b4e",
   "metadata": {},
   "outputs": [],
   "source": []
  }
 ],
 "metadata": {
  "kernelspec": {
   "display_name": "base",
   "language": "python",
   "name": "python3"
  },
  "language_info": {
   "codemirror_mode": {
    "name": "ipython",
    "version": 3
   },
   "file_extension": ".py",
   "mimetype": "text/x-python",
   "name": "python",
   "nbconvert_exporter": "python",
   "pygments_lexer": "ipython3",
   "version": "3.12.2"
  }
 },
 "nbformat": 4,
 "nbformat_minor": 5
}
